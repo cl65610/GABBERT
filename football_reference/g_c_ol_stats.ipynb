{
 "cells": [
  {
   "cell_type": "code",
   "execution_count": null,
   "metadata": {
    "collapsed": true
   },
   "outputs": [],
   "source": [
    "from bs4 import BeautifulSoup\n",
    "import pandas as pd\n",
    "import requests\n",
    "import numpy as np\n",
    "import urllib\n",
    "from time import sleep"
   ]
  },
  {
   "cell_type": "code",
   "execution_count": null,
   "metadata": {
    "collapsed": true
   },
   "outputs": [],
   "source": [
    "# define a function to get the soup\n",
    "def get_soup(url):\n",
    "    r = requests.get(url)\n",
    "    soup = BeautifulSoup(r.text, 'html.parser')\n",
    "    return soup\n",
    "\n",
    "# define a function to increment the url to the next page\n",
    "\n",
    "def next_page(base, player_count):\n",
    "    url = base+str(player_count)\n",
    "    return url\n",
    "\n",
    "# define a function that will return a list of the rows of player stats on a page\n",
    "def get_rows(soup):\n",
    "    body = soup.findAll('tbody')\n",
    "    rows = body[0].findAll('tr')\n",
    "    stat_rows = [x for x in rows if x['class']==['']]\n",
    "    return stat_rows\n",
    "\n",
    "# define a function that will strip the stats out of a row of player html data\n",
    "def strip_stats(rows):\n",
    "    for x in range(0,len(rows)):\n",
    "        player_stats = rows[x].findAll('td')\n",
    "        stats.append([z.text for z in player_stats])"
   ]
  },
  {
   "cell_type": "code",
   "execution_count": null,
   "metadata": {
    "collapsed": true
   },
   "outputs": [],
   "source": [
    "base = ('http://www.pro-football-reference.com/play-index/psl_finder.cgi?request=1&match=single&year_min=1999&year_max=2016&season_start=1&season_end=-1&age_min=0&age_max=99&league_id=NFL&team_id=&is_active=&is_hof=&pos_is_g=Y&pos_is_c=Y&c1stat=height_in&c1comp=gt&c1val=&c2stat=g&c2comp=gt&c2val=&c3stat=seasons&c3comp=gt&c3val=&c4stat=&c4comp=gt&c4val=&c5comp=&c5gtlt=lt&c6mult=1.0&c6comp=&order_by=player&draft=0&draft_year_min=1936&draft_year_max=2015&type=&draft_round_min=0&draft_round_max=99&draft_slot_min=1&draft_slot_max=500&draft_pick_in_round=0&draft_league_id=&draft_team_id=&college_id=all&conference=any&draft_pos_is_qb=Y&draft_pos_is_rb=Y&draft_pos_is_wr=Y&draft_pos_is_te=Y&draft_pos_is_e=Y&draft_pos_is_t=Y&draft_pos_is_g=Y&draft_pos_is_c=Y&draft_pos_is_ol=Y&draft_pos_is_dt=Y&draft_pos_is_de=Y&draft_pos_is_dl=Y&draft_pos_is_ilb=Y&draft_pos_is_olb=Y&draft_pos_is_lb=Y&draft_pos_is_cb=Y&draft_pos_is_s=Y&draft_pos_is_db=Y&draft_pos_is_k=Y&draft_pos_is_p=Y&offset=')\n",
    "\n",
    "# The master function will need to have a stats and counter that increments by 100\n",
    "# and prints out how many players it has processed per loop\n",
    "def get_g_c_ol_stats(base_url, limit):\n",
    "    player_count = 0\n",
    "    while player_count <= limit:\n",
    "        url = next_page(base, player_count)\n",
    "        soup = get_soup(url)\n",
    "        rows = get_rows(soup)\n",
    "        strip_stats(rows)\n",
    "        player_count +=100\n",
    "        print '%d players processed' % player_count\n",
    "        sleep(.5)"
   ]
  },
  {
   "cell_type": "code",
   "execution_count": null,
   "metadata": {
    "collapsed": true
   },
   "outputs": [],
   "source": [
    "# instantiate the list that the player stats will be added to. I've yet to figure\n",
    "# out how to have this list exist inside the function and be returned by it.\n",
    "stats = []"
   ]
  },
  {
   "cell_type": "code",
   "execution_count": null,
   "metadata": {
    "collapsed": false
   },
   "outputs": [],
   "source": [
    "# after looking through the results of the search on pro-football-reference, this\n",
    "# upper limit will capture all of the players in the search results.\n",
    "get_g_c_ol_stats(base, 3100)"
   ]
  },
  {
   "cell_type": "code",
   "execution_count": null,
   "metadata": {
    "collapsed": false
   },
   "outputs": [],
   "source": [
    "# running a len on the stats column shows that we got all of the players we wanted\n",
    "print len(stats)\n",
    "# manually create the column names that we'll need for this dataframe\n",
    "ol_cols = ['rk', 'name', 'year', 'age', 'drafted', 'team', 'league',\n",
    "            'height', 'weight', 'bmi', 'games', 'starts',\n",
    "           'yrs', 'pro_bowl', 'all_pro', 'av']\n",
    "df = pd.DataFrame(stats, columns = ol_cols)"
   ]
  },
  {
   "cell_type": "code",
   "execution_count": null,
   "metadata": {
    "collapsed": false
   },
   "outputs": [],
   "source": [
    "## checking the tail since we may have looped through an extra page\n",
    "df.tail()"
   ]
  },
  {
   "cell_type": "code",
   "execution_count": null,
   "metadata": {
    "collapsed": false
   },
   "outputs": [],
   "source": [
    "## checking to make sure we looped through all the pages by seeing \n",
    "## the number of unique names in the name column\n",
    "df.name.nunique()"
   ]
  },
  {
   "cell_type": "code",
   "execution_count": null,
   "metadata": {
    "collapsed": false
   },
   "outputs": [],
   "source": [
    "# identify the numeric columns so that they can be converted before adding to sql\n",
    "numeric_columns = ['rk', 'year', 'age', 'weight', 'bmi', 'games', 'starts',\n",
    "                   'yrs', 'pro_bowl', 'all_pro', 'av']\n",
    "                  \n",
    "\n",
    "# this loop will force the numeric columns to integers and floats depending on their nature\n",
    "for col in numeric_columns:\n",
    "    df[col] = df[col].convert_objects(convert_numeric=True)\n",
    "\n",
    "df.dtypes"
   ]
  },
  {
   "cell_type": "code",
   "execution_count": null,
   "metadata": {
    "collapsed": true
   },
   "outputs": [],
   "source": [
    "## Creating a csv of the newly formed qb database\n",
    "\n",
    "df.to_csv('g_c_ol_stats', encoding = 'utf-8')"
   ]
  },
  {
   "cell_type": "code",
   "execution_count": null,
   "metadata": {
    "collapsed": true
   },
   "outputs": [],
   "source": [
    "## I will now be creating a database in postgres in order to add\n",
    "## this dataframe as a table to perform queries on outside of python\n",
    "\n",
    "from sqlalchemy import create_engine\n",
    "import psycopg2\n",
    "\n",
    "engine = create_engine('postgresql://TerryONeill@localhost:5432/nfl_capstone')"
   ]
  },
  {
   "cell_type": "code",
   "execution_count": null,
   "metadata": {
    "collapsed": true
   },
   "outputs": [],
   "source": [
    "## this is adding the dataframe to my newly created database in psql as\n",
    "## a table named 'running_back_stats'\n",
    "df.to_sql('g_c_ol_stats', engine)"
   ]
  },
  {
   "cell_type": "code",
   "execution_count": null,
   "metadata": {
    "collapsed": true
   },
   "outputs": [],
   "source": []
  }
 ],
 "metadata": {
  "kernelspec": {
   "display_name": "Python 2",
   "language": "python",
   "name": "python2"
  },
  "language_info": {
   "codemirror_mode": {
    "name": "ipython",
    "version": 2
   },
   "file_extension": ".py",
   "mimetype": "text/x-python",
   "name": "python",
   "nbconvert_exporter": "python",
   "pygments_lexer": "ipython2",
   "version": "2.7.11"
  }
 },
 "nbformat": 4,
 "nbformat_minor": 0
}
