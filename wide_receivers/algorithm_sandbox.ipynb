{
 "cells": [
  {
   "cell_type": "markdown",
   "metadata": {},
   "source": [
    "# Algorithm Sandbox"
   ]
  },
  {
   "cell_type": "markdown",
   "metadata": {},
   "source": [
    "This file contains work done to try to formulate an effective algorithm. This is a sandbox-type file, meant to experiment. Meaningful insights/work will be exported and summarized in a separate location."
   ]
  },
  {
   "cell_type": "code",
   "execution_count": 15,
   "metadata": {
    "collapsed": true
   },
   "outputs": [],
   "source": [
    "import pandas as pd\n",
    "import numpy as np\n",
    "import matplotlib.pyplot as plt"
   ]
  },
  {
   "cell_type": "code",
   "execution_count": 35,
   "metadata": {
    "collapsed": false
   },
   "outputs": [],
   "source": [
    "df = pd.read_csv('/Users/TerryONeill/Terry_git/Capstone/GABBERT/wide_receivers/wrs_finalish.csv')\n",
    "df.drop(['Unnamed: 0', 'Unnamed: 0.1'], axis = 1, inplace = True)"
   ]
  },
  {
   "cell_type": "code",
   "execution_count": 36,
   "metadata": {
    "collapsed": false
   },
   "outputs": [
    {
     "data": {
      "text/html": [
       "<div>\n",
       "<table border=\"1\" class=\"dataframe\">\n",
       "  <thead>\n",
       "    <tr style=\"text-align: right;\">\n",
       "      <th></th>\n",
       "      <th>name</th>\n",
       "      <th>season</th>\n",
       "      <th>age</th>\n",
       "      <th>draft_pos</th>\n",
       "      <th>team</th>\n",
       "      <th>weight</th>\n",
       "      <th>bmi</th>\n",
       "      <th>games</th>\n",
       "      <th>rush_atts</th>\n",
       "      <th>rush_yds</th>\n",
       "      <th>...</th>\n",
       "      <th>rookie_season</th>\n",
       "      <th>height_inches</th>\n",
       "      <th>start_ratio</th>\n",
       "      <th>dpis_drawn</th>\n",
       "      <th>dpi_yards</th>\n",
       "      <th>years_in_league</th>\n",
       "      <th>pct_team_tgts</th>\n",
       "      <th>pct_team_receptions</th>\n",
       "      <th>pct_of_team_passyards</th>\n",
       "      <th>pct_team_touchdowns</th>\n",
       "    </tr>\n",
       "  </thead>\n",
       "  <tbody>\n",
       "    <tr>\n",
       "      <th>0</th>\n",
       "      <td>David Boston</td>\n",
       "      <td>1999.0</td>\n",
       "      <td>21.0</td>\n",
       "      <td>1-8</td>\n",
       "      <td>ARI</td>\n",
       "      <td>240.0</td>\n",
       "      <td>30.8</td>\n",
       "      <td>16.0</td>\n",
       "      <td>5.0</td>\n",
       "      <td>0.0</td>\n",
       "      <td>...</td>\n",
       "      <td>1999.0</td>\n",
       "      <td>74.0</td>\n",
       "      <td>0.500000</td>\n",
       "      <td>1.0</td>\n",
       "      <td>24.0</td>\n",
       "      <td>0.0</td>\n",
       "      <td>0.145161</td>\n",
       "      <td>0.139373</td>\n",
       "      <td>0.168748</td>\n",
       "      <td>0.181818</td>\n",
       "    </tr>\n",
       "    <tr>\n",
       "      <th>1</th>\n",
       "      <td>Frank Sanders</td>\n",
       "      <td>1999.0</td>\n",
       "      <td>26.0</td>\n",
       "      <td>2-47</td>\n",
       "      <td>ARI</td>\n",
       "      <td>215.0</td>\n",
       "      <td>27.6</td>\n",
       "      <td>16.0</td>\n",
       "      <td>0.0</td>\n",
       "      <td>0.0</td>\n",
       "      <td>...</td>\n",
       "      <td>1999.0</td>\n",
       "      <td>74.0</td>\n",
       "      <td>1.000000</td>\n",
       "      <td>1.0</td>\n",
       "      <td>4.0</td>\n",
       "      <td>0.0</td>\n",
       "      <td>0.274194</td>\n",
       "      <td>0.275261</td>\n",
       "      <td>0.340350</td>\n",
       "      <td>0.090909</td>\n",
       "    </tr>\n",
       "    <tr>\n",
       "      <th>2</th>\n",
       "      <td>Rob Moore</td>\n",
       "      <td>1999.0</td>\n",
       "      <td>31.0</td>\n",
       "      <td>1-1</td>\n",
       "      <td>ARI</td>\n",
       "      <td>203.0</td>\n",
       "      <td>25.4</td>\n",
       "      <td>14.0</td>\n",
       "      <td>0.0</td>\n",
       "      <td>0.0</td>\n",
       "      <td>...</td>\n",
       "      <td>1999.0</td>\n",
       "      <td>75.0</td>\n",
       "      <td>0.714286</td>\n",
       "      <td>6.0</td>\n",
       "      <td>88.0</td>\n",
       "      <td>0.0</td>\n",
       "      <td>0.172043</td>\n",
       "      <td>0.128920</td>\n",
       "      <td>0.221548</td>\n",
       "      <td>0.454545</td>\n",
       "    </tr>\n",
       "    <tr>\n",
       "      <th>3</th>\n",
       "      <td>Mac Cody</td>\n",
       "      <td>1999.0</td>\n",
       "      <td>27.0</td>\n",
       "      <td>UDFA</td>\n",
       "      <td>ARI</td>\n",
       "      <td>182.0</td>\n",
       "      <td>25.4</td>\n",
       "      <td>13.0</td>\n",
       "      <td>0.0</td>\n",
       "      <td>0.0</td>\n",
       "      <td>...</td>\n",
       "      <td>1999.0</td>\n",
       "      <td>71.0</td>\n",
       "      <td>0.000000</td>\n",
       "      <td>1.0</td>\n",
       "      <td>20.0</td>\n",
       "      <td>0.0</td>\n",
       "      <td>0.019713</td>\n",
       "      <td>0.020906</td>\n",
       "      <td>0.021406</td>\n",
       "      <td>0.090909</td>\n",
       "    </tr>\n",
       "    <tr>\n",
       "      <th>4</th>\n",
       "      <td>Frank Sanders</td>\n",
       "      <td>2000.0</td>\n",
       "      <td>27.0</td>\n",
       "      <td>2-47</td>\n",
       "      <td>ARI</td>\n",
       "      <td>215.0</td>\n",
       "      <td>27.6</td>\n",
       "      <td>16.0</td>\n",
       "      <td>0.0</td>\n",
       "      <td>0.0</td>\n",
       "      <td>...</td>\n",
       "      <td>1999.0</td>\n",
       "      <td>74.0</td>\n",
       "      <td>1.000000</td>\n",
       "      <td>3.0</td>\n",
       "      <td>63.0</td>\n",
       "      <td>1.0</td>\n",
       "      <td>0.209386</td>\n",
       "      <td>0.170886</td>\n",
       "      <td>0.230462</td>\n",
       "      <td>0.375000</td>\n",
       "    </tr>\n",
       "  </tbody>\n",
       "</table>\n",
       "<p>5 rows × 63 columns</p>\n",
       "</div>"
      ],
      "text/plain": [
       "            name  season   age draft_pos team  weight   bmi  games  rush_atts  \\\n",
       "0   David Boston  1999.0  21.0       1-8  ARI   240.0  30.8   16.0        5.0   \n",
       "1  Frank Sanders  1999.0  26.0      2-47  ARI   215.0  27.6   16.0        0.0   \n",
       "2      Rob Moore  1999.0  31.0       1-1  ARI   203.0  25.4   14.0        0.0   \n",
       "3       Mac Cody  1999.0  27.0      UDFA  ARI   182.0  25.4   13.0        0.0   \n",
       "4  Frank Sanders  2000.0  27.0      2-47  ARI   215.0  27.6   16.0        0.0   \n",
       "\n",
       "   rush_yds         ...           rookie_season  height_inches  start_ratio  \\\n",
       "0       0.0         ...                  1999.0           74.0     0.500000   \n",
       "1       0.0         ...                  1999.0           74.0     1.000000   \n",
       "2       0.0         ...                  1999.0           75.0     0.714286   \n",
       "3       0.0         ...                  1999.0           71.0     0.000000   \n",
       "4       0.0         ...                  1999.0           74.0     1.000000   \n",
       "\n",
       "   dpis_drawn  dpi_yards  years_in_league  pct_team_tgts  pct_team_receptions  \\\n",
       "0         1.0       24.0              0.0       0.145161             0.139373   \n",
       "1         1.0        4.0              0.0       0.274194             0.275261   \n",
       "2         6.0       88.0              0.0       0.172043             0.128920   \n",
       "3         1.0       20.0              0.0       0.019713             0.020906   \n",
       "4         3.0       63.0              1.0       0.209386             0.170886   \n",
       "\n",
       "   pct_of_team_passyards  pct_team_touchdowns  \n",
       "0               0.168748             0.181818  \n",
       "1               0.340350             0.090909  \n",
       "2               0.221548             0.454545  \n",
       "3               0.021406             0.090909  \n",
       "4               0.230462             0.375000  \n",
       "\n",
       "[5 rows x 63 columns]"
      ]
     },
     "execution_count": 36,
     "metadata": {},
     "output_type": "execute_result"
    }
   ],
   "source": [
    "df.head()"
   ]
  },
  {
   "cell_type": "code",
   "execution_count": 37,
   "metadata": {
    "collapsed": false
   },
   "outputs": [],
   "source": [
    "## I am dropping all the people with nulls for the team information\n",
    "## they all were listed as '2TM' or more than two teams, so this data\n",
    "## could not be imputed or assumed for them\n",
    "df.dropna(subset = ['team_pass_tds'], inplace = True)"
   ]
  },
  {
   "cell_type": "code",
   "execution_count": 38,
   "metadata": {
    "collapsed": false,
    "scrolled": false
   },
   "outputs": [
    {
     "data": {
      "text/plain": [
       "name                        0\n",
       "season                      0\n",
       "age                         0\n",
       "draft_pos                   0\n",
       "team                        0\n",
       "weight                      0\n",
       "bmi                         0\n",
       "games                       0\n",
       "rush_atts                   0\n",
       "rush_yds                    0\n",
       "rush_y/a                    0\n",
       "rush_tds                    0\n",
       "rush_ypg                    0\n",
       "targets                     0\n",
       "receptions                  0\n",
       "rec_yards                   0\n",
       "yards/reception             0\n",
       "rec_tds                     0\n",
       "rec_ypg                     0\n",
       "ctch_pct                    0\n",
       "y/tgt                       0\n",
       "fumbles                     0\n",
       "fumbles_recovered           0\n",
       "fum_ret_yds                 0\n",
       "fum_tds                     0\n",
       "forced_fumbles              0\n",
       "pro_bowls                   0\n",
       "all_pros                    0\n",
       "position                    0\n",
       "100yd_gms                   0\n",
       "                         ... \n",
       "long_ctch                   0\n",
       "recs_ovr_25                 0\n",
       "drops                       0\n",
       "EYds                        0\n",
       "DVOA                        0\n",
       "DYAR                        0\n",
       "position.1               1400\n",
       "Hand Size in             3030\n",
       "Arm Length in            3030\n",
       "40 Yard                     0\n",
       "Vert Leap in             2396\n",
       "Broad Jump in            2460\n",
       "Shuttle                  2576\n",
       "3Cone                    2599\n",
       "60Yd Shuttle             3154\n",
       "team_pass_tds               0\n",
       "team_pass_yds               0\n",
       "team_pass_attempts          0\n",
       "team_completions            0\n",
       "rookie_age                  0\n",
       "rookie_season               0\n",
       "height_inches               0\n",
       "start_ratio                 0\n",
       "dpis_drawn                  0\n",
       "dpi_yards                   0\n",
       "years_in_league             0\n",
       "pct_team_tgts               0\n",
       "pct_team_receptions         0\n",
       "pct_of_team_passyards       0\n",
       "pct_team_touchdowns         0\n",
       "dtype: int64"
      ]
     },
     "execution_count": 38,
     "metadata": {},
     "output_type": "execute_result"
    }
   ],
   "source": [
    "df.isnull().sum()"
   ]
  },
  {
   "cell_type": "code",
   "execution_count": 39,
   "metadata": {
    "collapsed": false
   },
   "outputs": [
    {
     "name": "stdout",
     "output_type": "stream",
     "text": [
      "Index([u'name', u'season', u'age', u'draft_pos', u'team', u'weight', u'bmi',\n",
      "       u'games', u'rush_atts', u'rush_yds', u'rush_y/a', u'rush_tds',\n",
      "       u'rush_ypg', u'targets', u'receptions', u'rec_yards',\n",
      "       u'yards/reception', u'rec_tds', u'rec_ypg', u'ctch_pct', u'y/tgt',\n",
      "       u'fumbles', u'fumbles_recovered', u'fum_ret_yds', u'fum_tds',\n",
      "       u'forced_fumbles', u'pro_bowls', u'all_pros', u'position', u'100yd_gms',\n",
      "       u'yac', u'first_down_ctchs', u'first_down_ctchpct', u'long_ctch',\n",
      "       u'recs_ovr_25', u'drops', u'EYds', u'DVOA', u'DYAR', u'position.1',\n",
      "       u'Hand Size in', u'Arm Length in', u'40 Yard', u'Vert Leap in',\n",
      "       u'Broad Jump in', u'Shuttle', u'3Cone', u'60Yd Shuttle',\n",
      "       u'team_pass_tds', u'team_pass_yds', u'team_pass_attempts',\n",
      "       u'team_completions', u'rookie_age', u'rookie_season', u'height_inches',\n",
      "       u'start_ratio', u'dpis_drawn', u'dpi_yards', u'years_in_league',\n",
      "       u'pct_team_tgts', u'pct_team_receptions', u'pct_of_team_passyards',\n",
      "       u'pct_team_touchdowns'],\n",
      "      dtype='object')\n"
     ]
    }
   ],
   "source": [
    "print df.columns"
   ]
  },
  {
   "cell_type": "code",
   "execution_count": 51,
   "metadata": {
    "collapsed": true
   },
   "outputs": [
    {
     "name": "stdout",
     "output_type": "stream",
     "text": [
      "(217, 63)\n"
     ]
    },
    {
     "data": {
      "text/html": [
       "<div>\n",
       "<table border=\"1\" class=\"dataframe\">\n",
       "  <thead>\n",
       "    <tr style=\"text-align: right;\">\n",
       "      <th></th>\n",
       "      <th>name</th>\n",
       "      <th>season</th>\n",
       "      <th>age</th>\n",
       "      <th>draft_pos</th>\n",
       "      <th>team</th>\n",
       "      <th>weight</th>\n",
       "      <th>bmi</th>\n",
       "      <th>games</th>\n",
       "      <th>rush_atts</th>\n",
       "      <th>rush_yds</th>\n",
       "      <th>...</th>\n",
       "      <th>rookie_season</th>\n",
       "      <th>height_inches</th>\n",
       "      <th>start_ratio</th>\n",
       "      <th>dpis_drawn</th>\n",
       "      <th>dpi_yards</th>\n",
       "      <th>years_in_league</th>\n",
       "      <th>pct_team_tgts</th>\n",
       "      <th>pct_team_receptions</th>\n",
       "      <th>pct_of_team_passyards</th>\n",
       "      <th>pct_team_touchdowns</th>\n",
       "    </tr>\n",
       "  </thead>\n",
       "  <tbody>\n",
       "    <tr>\n",
       "      <th>55</th>\n",
       "      <td>Michael Floyd</td>\n",
       "      <td>2015.0</td>\n",
       "      <td>26.0</td>\n",
       "      <td>1-13</td>\n",
       "      <td>ARI</td>\n",
       "      <td>220.0</td>\n",
       "      <td>27.5</td>\n",
       "      <td>15.0</td>\n",
       "      <td>0.0</td>\n",
       "      <td>0.0</td>\n",
       "      <td>...</td>\n",
       "      <td>2012.0</td>\n",
       "      <td>75.0</td>\n",
       "      <td>0.400000</td>\n",
       "      <td>2.0</td>\n",
       "      <td>40.0</td>\n",
       "      <td>3.0</td>\n",
       "      <td>0.138199</td>\n",
       "      <td>0.129676</td>\n",
       "      <td>0.164185</td>\n",
       "      <td>0.153846</td>\n",
       "    </tr>\n",
       "    <tr>\n",
       "      <th>56</th>\n",
       "      <td>Jaron Brown</td>\n",
       "      <td>2015.0</td>\n",
       "      <td>25.0</td>\n",
       "      <td>UDFA</td>\n",
       "      <td>ARI</td>\n",
       "      <td>205.0</td>\n",
       "      <td>26.3</td>\n",
       "      <td>16.0</td>\n",
       "      <td>0.0</td>\n",
       "      <td>0.0</td>\n",
       "      <td>...</td>\n",
       "      <td>2013.0</td>\n",
       "      <td>74.0</td>\n",
       "      <td>0.000000</td>\n",
       "      <td>1.0</td>\n",
       "      <td>32.0</td>\n",
       "      <td>2.0</td>\n",
       "      <td>0.035714</td>\n",
       "      <td>0.027431</td>\n",
       "      <td>0.027848</td>\n",
       "      <td>0.025641</td>\n",
       "    </tr>\n",
       "    <tr>\n",
       "      <th>111</th>\n",
       "      <td>Roddy White</td>\n",
       "      <td>2015.0</td>\n",
       "      <td>34.0</td>\n",
       "      <td>1-27</td>\n",
       "      <td>ATL</td>\n",
       "      <td>201.0</td>\n",
       "      <td>26.5</td>\n",
       "      <td>16.0</td>\n",
       "      <td>0.0</td>\n",
       "      <td>0.0</td>\n",
       "      <td>...</td>\n",
       "      <td>2005.0</td>\n",
       "      <td>73.0</td>\n",
       "      <td>1.000000</td>\n",
       "      <td>1.0</td>\n",
       "      <td>6.0</td>\n",
       "      <td>10.0</td>\n",
       "      <td>0.112721</td>\n",
       "      <td>0.104878</td>\n",
       "      <td>0.115472</td>\n",
       "      <td>0.047619</td>\n",
       "    </tr>\n",
       "    <tr>\n",
       "      <th>112</th>\n",
       "      <td>Justin Hardy</td>\n",
       "      <td>2015.0</td>\n",
       "      <td>24.0</td>\n",
       "      <td>4-107</td>\n",
       "      <td>ATL</td>\n",
       "      <td>190.0</td>\n",
       "      <td>26.5</td>\n",
       "      <td>9.0</td>\n",
       "      <td>0.0</td>\n",
       "      <td>0.0</td>\n",
       "      <td>...</td>\n",
       "      <td>2015.0</td>\n",
       "      <td>71.0</td>\n",
       "      <td>0.111111</td>\n",
       "      <td>0.0</td>\n",
       "      <td>0.0</td>\n",
       "      <td>0.0</td>\n",
       "      <td>0.057971</td>\n",
       "      <td>0.051220</td>\n",
       "      <td>0.044272</td>\n",
       "      <td>0.000000</td>\n",
       "    </tr>\n",
       "    <tr>\n",
       "      <th>167</th>\n",
       "      <td>Marlon Brown</td>\n",
       "      <td>2015.0</td>\n",
       "      <td>24.0</td>\n",
       "      <td>UDFA</td>\n",
       "      <td>BAL</td>\n",
       "      <td>216.0</td>\n",
       "      <td>25.6</td>\n",
       "      <td>10.0</td>\n",
       "      <td>0.0</td>\n",
       "      <td>0.0</td>\n",
       "      <td>...</td>\n",
       "      <td>2014.0</td>\n",
       "      <td>77.0</td>\n",
       "      <td>0.200000</td>\n",
       "      <td>0.0</td>\n",
       "      <td>0.0</td>\n",
       "      <td>1.0</td>\n",
       "      <td>0.044379</td>\n",
       "      <td>0.032864</td>\n",
       "      <td>0.026223</td>\n",
       "      <td>0.000000</td>\n",
       "    </tr>\n",
       "  </tbody>\n",
       "</table>\n",
       "<p>5 rows × 63 columns</p>\n",
       "</div>"
      ],
      "text/plain": [
       "              name  season   age draft_pos team  weight   bmi  games  \\\n",
       "55   Michael Floyd  2015.0  26.0      1-13  ARI   220.0  27.5   15.0   \n",
       "56     Jaron Brown  2015.0  25.0      UDFA  ARI   205.0  26.3   16.0   \n",
       "111    Roddy White  2015.0  34.0      1-27  ATL   201.0  26.5   16.0   \n",
       "112   Justin Hardy  2015.0  24.0     4-107  ATL   190.0  26.5    9.0   \n",
       "167   Marlon Brown  2015.0  24.0      UDFA  BAL   216.0  25.6   10.0   \n",
       "\n",
       "     rush_atts  rush_yds         ...           rookie_season  height_inches  \\\n",
       "55         0.0       0.0         ...                  2012.0           75.0   \n",
       "56         0.0       0.0         ...                  2013.0           74.0   \n",
       "111        0.0       0.0         ...                  2005.0           73.0   \n",
       "112        0.0       0.0         ...                  2015.0           71.0   \n",
       "167        0.0       0.0         ...                  2014.0           77.0   \n",
       "\n",
       "     start_ratio  dpis_drawn  dpi_yards  years_in_league  pct_team_tgts  \\\n",
       "55      0.400000         2.0       40.0              3.0       0.138199   \n",
       "56      0.000000         1.0       32.0              2.0       0.035714   \n",
       "111     1.000000         1.0        6.0             10.0       0.112721   \n",
       "112     0.111111         0.0        0.0              0.0       0.057971   \n",
       "167     0.200000         0.0        0.0              1.0       0.044379   \n",
       "\n",
       "     pct_team_receptions  pct_of_team_passyards  pct_team_touchdowns  \n",
       "55              0.129676               0.164185             0.153846  \n",
       "56              0.027431               0.027848             0.025641  \n",
       "111             0.104878               0.115472             0.047619  \n",
       "112             0.051220               0.044272             0.000000  \n",
       "167             0.032864               0.026223             0.000000  \n",
       "\n",
       "[5 rows x 63 columns]"
      ]
     },
     "execution_count": 51,
     "metadata": {},
     "output_type": "execute_result"
    }
   ],
   "source": [
    "data = df[df.season == 2015]\n",
    "print data.shape\n",
    "data.head()"
   ]
  },
  {
   "cell_type": "code",
   "execution_count": 52,
   "metadata": {
    "collapsed": false
   },
   "outputs": [
    {
     "name": "stdout",
     "output_type": "stream",
     "text": [
      "2.40552995392\n"
     ]
    }
   ],
   "source": [
    "### finding averages for the 2015 season\n",
    "\n",
    "## average touchdowns per player\n",
    "print np.average(data.rec_tds)"
   ]
  },
  {
   "cell_type": "code",
   "execution_count": 53,
   "metadata": {
    "collapsed": false
   },
   "outputs": [
    {
     "name": "stdout",
     "output_type": "stream",
     "text": [
      "392.539170507\n"
     ]
    }
   ],
   "source": [
    "## average total yards (receiving plus rushing) per player\n",
    "print np.average(data.rush_yds + data.rec_yards)"
   ]
  },
  {
   "cell_type": "code",
   "execution_count": 54,
   "metadata": {
    "collapsed": false
   },
   "outputs": [
    {
     "name": "stdout",
     "output_type": "stream",
     "text": [
      "-0.038980818009\n"
     ]
    }
   ],
   "source": [
    "## average DVOA per player\n",
    "\n",
    "print np.average(data.DVOA)"
   ]
  },
  {
   "cell_type": "code",
   "execution_count": 55,
   "metadata": {
    "collapsed": false
   },
   "outputs": [
    {
     "name": "stdout",
     "output_type": "stream",
     "text": [
      "0.515267268942\n"
     ]
    }
   ],
   "source": [
    "## average DYAR per player\n",
    "print np.average(data.DYAR)"
   ]
  },
  {
   "cell_type": "code",
   "execution_count": 56,
   "metadata": {
    "collapsed": false
   },
   "outputs": [
    {
     "name": "stdout",
     "output_type": "stream",
     "text": [
      "16.6820276498\n"
     ]
    }
   ],
   "source": [
    "## average YAC per player\n",
    "print np.average(data.yac)"
   ]
  },
  {
   "cell_type": "code",
   "execution_count": 57,
   "metadata": {
    "collapsed": false
   },
   "outputs": [
    {
     "name": "stdout",
     "output_type": "stream",
     "text": [
      "11.4913824885\n"
     ]
    }
   ],
   "source": [
    "## average yards per reception (yards/catch) per player\n",
    "print np.average(data['yards/reception'])"
   ]
  },
  {
   "cell_type": "code",
   "execution_count": 58,
   "metadata": {
    "collapsed": false
   },
   "outputs": [
    {
     "name": "stdout",
     "output_type": "stream",
     "text": [
      "0.547396313364\n"
     ]
    }
   ],
   "source": [
    "## average catch rate per player\n",
    "print np.average(data.ctch_pct)"
   ]
  },
  {
   "cell_type": "code",
   "execution_count": 59,
   "metadata": {
    "collapsed": false
   },
   "outputs": [
    {
     "name": "stdout",
     "output_type": "stream",
     "text": [
      "48.5898617512\n"
     ]
    }
   ],
   "source": [
    "## average targets per player\n",
    "print np.average(data.targets)"
   ]
  },
  {
   "cell_type": "code",
   "execution_count": 60,
   "metadata": {
    "collapsed": false
   },
   "outputs": [
    {
     "name": "stdout",
     "output_type": "stream",
     "text": [
      "0.294930875576\n"
     ]
    }
   ],
   "source": [
    "## average number of drops per player\n",
    "print np.average(data.drops)"
   ]
  },
  {
   "cell_type": "code",
   "execution_count": 61,
   "metadata": {
    "collapsed": false
   },
   "outputs": [
    {
     "name": "stdout",
     "output_type": "stream",
     "text": [
      "0.400698264869\n"
     ]
    }
   ],
   "source": [
    "## average start ratio per player\n",
    "print np.average(data.start_ratio)"
   ]
  },
  {
   "cell_type": "code",
   "execution_count": null,
   "metadata": {
    "collapsed": true
   },
   "outputs": [],
   "source": []
  }
 ],
 "metadata": {
  "kernelspec": {
   "display_name": "Python 2",
   "language": "python",
   "name": "python2"
  },
  "language_info": {
   "codemirror_mode": {
    "name": "ipython",
    "version": 2
   },
   "file_extension": ".py",
   "mimetype": "text/x-python",
   "name": "python",
   "nbconvert_exporter": "python",
   "pygments_lexer": "ipython2",
   "version": "2.7.11"
  }
 },
 "nbformat": 4,
 "nbformat_minor": 0
}
