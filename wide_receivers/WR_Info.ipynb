{
 "cells": [
  {
   "cell_type": "markdown",
   "metadata": {},
   "source": [
    "## Wide Receivers"
   ]
  },
  {
   "cell_type": "markdown",
   "metadata": {},
   "source": [
    "### Data Acquisition and cleaning\n",
    "All data for this project was acquired through scraping the following websites: [Pro-Football-Reference](http://www.pro-football-reference.com/), [Fox Sports](http://www.foxsports.com/), [Football Outsiders](http://www.footballoutsiders.com), and [NFL Combine Results](http://nflcombineresults.com/). After the data was scraped, it was hosted locally in a PostgreSQL database. Some data transformations were done in SQL (standardizing team names, combining tables, filling null values, etc.). Below is the query that was used to join the results for wide receiever data. \n",
    "\n",
    "```SELECT wide_receivers.*, fox_receiving.\"100yd_gms\", fox_receiving.\"yac\", fox_receiving.\"first_down_ctchs\", fox_receiving.\"first_down_ctchpct\", fox_receiving.\"long_ctch\", fox_receiving.\"recs_ovr_25\", fox_receiving.\"drops\", fo_wrs.\"EYds\", fo_wrs.\"DPI\", fo_wrs.\"DVOA\", fo_wrs.\"DYAR\", fo_wrs.\"position\", combine_stats.\"Hand Size in\", combine_stats.\"Arm Length in\", combine_stats.\"40 Yard\", combine_stats.\"Vert Leap in\", combine_stats.\"Broad Jump in\", combine_stats.\"Shuttle\", combine_stats.\"3Cone\", combine_stats.\"60Yd Shuttle\", team_offense.\"pass_tds\" as team_pass_tds, team_offense.\"pass_yards\" as team_pass_yds, team_offense.\"pass_attempts\" as team_pass_attempts, team_offense.\"completions\" as team_completions\n",
    "FROM wide_receivers\n",
    "LEFT JOIN fox_receiving \n",
    "ON CONCAT(wide_receivers.\"name\", wide_receivers.\"team\") = CONCAT(fox_receiving.\"name\", fox_receiving.\"team\")\n",
    "AND wide_receivers.\"season\" = fox_receiving.\"season\"\n",
    "LEFT JOIN fo_wrs\n",
    "ON CONCAT(lower(wide_receivers.\"name\"), wide_receivers.\"team\") = CONCAT(lower(fo_wrs.\"name\"), fo_wrs.\"Team\")\n",
    "and wide_receivers.\"season\" = fo_wrs.\"season\"\n",
    "left JOIN combine_stats\n",
    "ON wide_receivers.\"name\" = combine_stats.\"Name\"\n",
    "AND LOWER(fo_wrs.\"position\") = LOWER(combine_stats.\"POS\")\n",
    "LEFT JOIN team_offense\n",
    "ON CONCAT(wide_receivers.\"team\", wide_receivers.\"season\") = CONCAT(team_offense.\"team\", team_offense.\"season\");\n",
    "```\n",
    "\n",
    "\n",
    "The authors of this project are extremely grateful to these outlets for their thorough curation of this data.\n",
    "\n",
    "After joining this data in SQL it was pulled down for further cleaning. This cleaning included data type transformations, feature engineering, and more. Our exploratory data analysis yielded some interesting results. Some highlights are described below.\n",
    "\n"
   ]
  },
  {
   "cell_type": "code",
   "execution_count": null,
   "metadata": {
    "collapsed": true
   },
   "outputs": [],
   "source": []
  }
 ],
 "metadata": {
  "kernelspec": {
   "display_name": "Python 2",
   "language": "python",
   "name": "python2"
  },
  "language_info": {
   "codemirror_mode": {
    "name": "ipython",
    "version": 2
   },
   "file_extension": ".py",
   "mimetype": "text/x-python",
   "name": "python",
   "nbconvert_exporter": "python",
   "pygments_lexer": "ipython2",
   "version": "2.7.11"
  }
 },
 "nbformat": 4,
 "nbformat_minor": 0
}
