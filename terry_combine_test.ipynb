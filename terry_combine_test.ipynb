{
 "cells": [
  {
   "cell_type": "code",
   "execution_count": null,
   "metadata": {
    "collapsed": true
   },
   "outputs": [],
   "source": [
    "import urllib\n",
    "from bs4 import BeautifulSoup as BS\n",
    "import pandas as pd\n",
    "\n",
    "## this is my root url that I will be using to get my info from\n",
    "url = 'http://nflcombineresults.com/nflcombinedata_expanded.php?year=all&pos=&college='\n"
   ]
  },
  {
   "cell_type": "code",
   "execution_count": null,
   "metadata": {
    "collapsed": false
   },
   "outputs": [],
   "source": [
    "## here I define my html from the website that i will be using to \n",
    "## create the soup\n",
    "html = urllib.urlopen(url).read()\n",
    "\n",
    "## creating the soup from the website using the beautiful soup package\n",
    "soup = BS(html, 'html.parser')\n",
    "\n",
    "## this is the body of the entire table i want the info from\n",
    "body = soup.find('table', {'class':'sortable'})\n",
    "\n",
    "## this is the body for the column headers only\n",
    "col_body = soup.find('thead')\n",
    "\n",
    "## this is the body for the table contents\n",
    "players_body = soup.find('tbody')"
   ]
  },
  {
   "cell_type": "code",
   "execution_count": null,
   "metadata": {
    "collapsed": false
   },
   "outputs": [],
   "source": [
    "## below i will create a list of the column headers to put in my dataframe\n",
    "## as the column names\n",
    "\n",
    "# creating an empty list to add them to\n",
    "columns = []\n",
    "# looping through each item in the col_body that starts with 'td'\n",
    "# since those are the markers for the column headers\n",
    "for i in col_body.findAll('td'):\n",
    "    columns.append(i.text)       #the .text will give me the text only\n",
    "    \n",
    "# checking the list to make sure i got everything\n",
    "columns\n"
   ]
  },
  {
   "cell_type": "code",
   "execution_count": null,
   "metadata": {
    "collapsed": false
   },
   "outputs": [],
   "source": [
    "## now i want to create a list with the body information on players\n",
    "\n",
    "## creating empty list to add things to\n",
    "rows = []\n",
    "\n",
    "## this will loop through every row in the table\n",
    "for row in players_body.findAll('tr'):\n",
    "    ## adding a second loop to iterate through each row for all the items\n",
    "    for i in row:\n",
    "        rows.append(i.text)  #adding text from each item to the empty list\n",
    "\n",
    "## making sure i got the right stuff\n",
    "rows"
   ]
  },
  {
   "cell_type": "code",
   "execution_count": null,
   "metadata": {
    "collapsed": false,
    "scrolled": true
   },
   "outputs": [],
   "source": [
    "import numpy as np\n",
    "\n",
    "## I am creating an array out of my list so that i can make it into\n",
    "## a dataframe using the acquired data\n",
    "rows_array = np.asarray(rows)"
   ]
  },
  {
   "cell_type": "code",
   "execution_count": null,
   "metadata": {
    "collapsed": false
   },
   "outputs": [],
   "source": [
    "## checking the shape of the array as it is now\n",
    "rows_array.shape"
   ]
  },
  {
   "cell_type": "code",
   "execution_count": null,
   "metadata": {
    "collapsed": true
   },
   "outputs": [],
   "source": [
    "## since i have 16 column headers in my cols list, i want to make\n",
    "## the array have 16 columns as well to fit into that\n",
    "## This equates to 5664 rows based on the number of players\n",
    "row_for_df = np.reshape(rows_array, (5664, 16))"
   ]
  },
  {
   "cell_type": "code",
   "execution_count": null,
   "metadata": {
    "collapsed": false
   },
   "outputs": [],
   "source": [
    "## checking the shape to make sure it worked correctly\n",
    "row_for_df.shape"
   ]
  },
  {
   "cell_type": "code",
   "execution_count": null,
   "metadata": {
    "collapsed": false
   },
   "outputs": [],
   "source": [
    "## now I am creating the dataframe and adding the new array as\n",
    "## the data with the previously made columns list as the columns\n",
    "combine_df = pd.DataFrame(row_for_df, columns = columns)"
   ]
  },
  {
   "cell_type": "code",
   "execution_count": null,
   "metadata": {
    "collapsed": false,
    "scrolled": false
   },
   "outputs": [],
   "source": [
    "## printing it out to check on it\n",
    "combine_df"
   ]
  },
  {
   "cell_type": "code",
   "execution_count": null,
   "metadata": {
    "collapsed": true
   },
   "outputs": [],
   "source": []
  }
 ],
 "metadata": {
  "kernelspec": {
   "display_name": "Python 2",
   "language": "python",
   "name": "python2"
  },
  "language_info": {
   "codemirror_mode": {
    "name": "ipython",
    "version": 2
   },
   "file_extension": ".py",
   "mimetype": "text/x-python",
   "name": "python",
   "nbconvert_exporter": "python",
   "pygments_lexer": "ipython2",
   "version": "2.7.11"
  }
 },
 "nbformat": 4,
 "nbformat_minor": 0
}
