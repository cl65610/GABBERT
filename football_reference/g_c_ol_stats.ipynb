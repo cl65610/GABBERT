{
 "cells": [
  {
   "cell_type": "code",
   "execution_count": 1,
   "metadata": {
    "collapsed": true
   },
   "outputs": [],
   "source": [
    "from bs4 import BeautifulSoup\n",
    "import pandas as pd\n",
    "import requests\n",
    "import numpy as np\n",
    "import urllib\n",
    "from time import sleep"
   ]
  },
  {
   "cell_type": "code",
   "execution_count": 2,
   "metadata": {
    "collapsed": true
   },
   "outputs": [],
   "source": [
    "# define a function to get the soup\n",
    "def get_soup(url):\n",
    "    r = requests.get(url)\n",
    "    soup = BeautifulSoup(r.text, 'html.parser')\n",
    "    return soup\n",
    "\n",
    "# define a function to increment the url to the next page\n",
    "\n",
    "def next_page(base, player_count):\n",
    "    url = base+str(player_count)\n",
    "    return url\n",
    "\n",
    "# define a function that will return a list of the rows of player stats on a page\n",
    "def get_rows(soup):\n",
    "    body = soup.findAll('tbody')\n",
    "    rows = body[0].findAll('tr')\n",
    "    stat_rows = [x for x in rows if x['class']==['']]\n",
    "    return stat_rows\n",
    "\n",
    "# define a function that will strip the stats out of a row of player html data\n",
    "def strip_stats(rows):\n",
    "    for x in range(0,len(rows)):\n",
    "        player_stats = rows[x].findAll('td')\n",
    "        stats.append([z.text for z in player_stats])"
   ]
  },
  {
   "cell_type": "code",
   "execution_count": 4,
   "metadata": {
    "collapsed": true
   },
   "outputs": [],
   "source": [
    "base = ('http://www.pro-football-reference.com/play-index/psl_finder.cgi?request=1&match=single&year_min=1999&year_max=2016&season_start=1&season_end=-1&age_min=0&age_max=99&league_id=NFL&team_id=&is_active=&is_hof=&pos_is_g=Y&pos_is_c=Y&c1stat=height_in&c1comp=gt&c1val=&c2stat=g&c2comp=gt&c2val=&c3stat=seasons&c3comp=gt&c3val=&c4stat=&c4comp=gt&c4val=&c5comp=&c5gtlt=lt&c6mult=1.0&c6comp=&order_by=player&draft=0&draft_year_min=1936&draft_year_max=2015&type=&draft_round_min=0&draft_round_max=99&draft_slot_min=1&draft_slot_max=500&draft_pick_in_round=0&draft_league_id=&draft_team_id=&college_id=all&conference=any&draft_pos_is_qb=Y&draft_pos_is_rb=Y&draft_pos_is_wr=Y&draft_pos_is_te=Y&draft_pos_is_e=Y&draft_pos_is_t=Y&draft_pos_is_g=Y&draft_pos_is_c=Y&draft_pos_is_ol=Y&draft_pos_is_dt=Y&draft_pos_is_de=Y&draft_pos_is_dl=Y&draft_pos_is_ilb=Y&draft_pos_is_olb=Y&draft_pos_is_lb=Y&draft_pos_is_cb=Y&draft_pos_is_s=Y&draft_pos_is_db=Y&draft_pos_is_k=Y&draft_pos_is_p=Y&offset=')\n",
    "\n",
    "# The master function will need to have a stats and counter that increments by 100\n",
    "# and prints out how many players it has processed per loop\n",
    "def get_g_c_ol_stats(base_url, limit):\n",
    "    player_count = 0\n",
    "    while player_count <= limit:\n",
    "        url = next_page(base, player_count)\n",
    "        soup = get_soup(url)\n",
    "        rows = get_rows(soup)\n",
    "        strip_stats(rows)\n",
    "        player_count +=100\n",
    "        print '%d players processed' % player_count\n",
    "        sleep(.5)"
   ]
  },
  {
   "cell_type": "code",
   "execution_count": 5,
   "metadata": {
    "collapsed": true
   },
   "outputs": [],
   "source": [
    "# instantiate the list that the player stats will be added to. I've yet to figure\n",
    "# out how to have this list exist inside the function and be returned by it.\n",
    "stats = []"
   ]
  },
  {
   "cell_type": "code",
   "execution_count": 6,
   "metadata": {
    "collapsed": false
   },
   "outputs": [
    {
     "name": "stdout",
     "output_type": "stream",
     "text": [
      "100 players processed\n",
      "200 players processed\n",
      "300 players processed\n",
      "400 players processed\n",
      "500 players processed\n",
      "600 players processed\n",
      "700 players processed\n",
      "800 players processed\n",
      "900 players processed\n",
      "1000 players processed\n",
      "1100 players processed\n",
      "1200 players processed\n",
      "1300 players processed\n",
      "1400 players processed\n",
      "1500 players processed\n",
      "1600 players processed\n",
      "1700 players processed\n",
      "1800 players processed\n",
      "1900 players processed\n",
      "2000 players processed\n",
      "2100 players processed\n",
      "2200 players processed\n",
      "2300 players processed\n",
      "2400 players processed\n",
      "2500 players processed\n",
      "2600 players processed\n",
      "2700 players processed\n",
      "2800 players processed\n",
      "2900 players processed\n",
      "3000 players processed\n",
      "3100 players processed\n",
      "3200 players processed\n"
     ]
    }
   ],
   "source": [
    "# after looking through the results of the search on pro-football-reference, this\n",
    "# upper limit will capture all of the players in the search results.\n",
    "get_g_c_ol_stats(base, 3100)"
   ]
  },
  {
   "cell_type": "code",
   "execution_count": 7,
   "metadata": {
    "collapsed": false
   },
   "outputs": [
    {
     "name": "stdout",
     "output_type": "stream",
     "text": [
      "3147\n"
     ]
    }
   ],
   "source": [
    "# running a len on the stats column shows that we got all of the players we wanted\n",
    "print len(stats)\n",
    "# manually create the column names that we'll need for this dataframe\n",
    "ol_cols = ['rk', 'name', 'year', 'age', 'drafted', 'team', 'league',\n",
    "            'height', 'weight', 'bmi', 'games', 'starts',\n",
    "           'yrs', 'pro_bowl', 'all_pro', 'av']\n",
    "df = pd.DataFrame(stats, columns = ol_cols)"
   ]
  },
  {
   "cell_type": "code",
   "execution_count": 8,
   "metadata": {
    "collapsed": false
   },
   "outputs": [
    {
     "data": {
      "text/html": [
       "<div>\n",
       "<table border=\"1\" class=\"dataframe\">\n",
       "  <thead>\n",
       "    <tr style=\"text-align: right;\">\n",
       "      <th></th>\n",
       "      <th>rk</th>\n",
       "      <th>name</th>\n",
       "      <th>year</th>\n",
       "      <th>age</th>\n",
       "      <th>drafted</th>\n",
       "      <th>team</th>\n",
       "      <th>league</th>\n",
       "      <th>height</th>\n",
       "      <th>weight</th>\n",
       "      <th>bmi</th>\n",
       "      <th>games</th>\n",
       "      <th>starts</th>\n",
       "      <th>yrs</th>\n",
       "      <th>pro_bowl</th>\n",
       "      <th>all_pro</th>\n",
       "      <th>av</th>\n",
       "    </tr>\n",
       "  </thead>\n",
       "  <tbody>\n",
       "    <tr>\n",
       "      <th>3142</th>\n",
       "      <td>3143</td>\n",
       "      <td>Tom Ackerman</td>\n",
       "      <td>2001</td>\n",
       "      <td>29</td>\n",
       "      <td>5-145</td>\n",
       "      <td>NOR</td>\n",
       "      <td>NFL</td>\n",
       "      <td>6-3</td>\n",
       "      <td>290</td>\n",
       "      <td>36.2</td>\n",
       "      <td>16</td>\n",
       "      <td>0</td>\n",
       "      <td>1</td>\n",
       "      <td>0</td>\n",
       "      <td>0</td>\n",
       "      <td>1</td>\n",
       "    </tr>\n",
       "    <tr>\n",
       "      <th>3143</th>\n",
       "      <td>3144</td>\n",
       "      <td>Tom Ackerman</td>\n",
       "      <td>2000</td>\n",
       "      <td>28</td>\n",
       "      <td>5-145</td>\n",
       "      <td>NOR</td>\n",
       "      <td>NFL</td>\n",
       "      <td>6-3</td>\n",
       "      <td>290</td>\n",
       "      <td>36.2</td>\n",
       "      <td>15</td>\n",
       "      <td>0</td>\n",
       "      <td>1</td>\n",
       "      <td>0</td>\n",
       "      <td>0</td>\n",
       "      <td>1</td>\n",
       "    </tr>\n",
       "    <tr>\n",
       "      <th>3144</th>\n",
       "      <td>3145</td>\n",
       "      <td>Tom Ackerman</td>\n",
       "      <td>2003</td>\n",
       "      <td>31</td>\n",
       "      <td>5-145</td>\n",
       "      <td>TEN</td>\n",
       "      <td>NFL</td>\n",
       "      <td>6-3</td>\n",
       "      <td>290</td>\n",
       "      <td>36.2</td>\n",
       "      <td>16</td>\n",
       "      <td>0</td>\n",
       "      <td>1</td>\n",
       "      <td>0</td>\n",
       "      <td>0</td>\n",
       "      <td>2</td>\n",
       "    </tr>\n",
       "    <tr>\n",
       "      <th>3145</th>\n",
       "      <td>3146</td>\n",
       "      <td>Oday Aboushi</td>\n",
       "      <td>2015</td>\n",
       "      <td>24</td>\n",
       "      <td>5-141</td>\n",
       "      <td>HOU</td>\n",
       "      <td>NFL</td>\n",
       "      <td>6-5</td>\n",
       "      <td>308</td>\n",
       "      <td>36.5</td>\n",
       "      <td>7</td>\n",
       "      <td>5</td>\n",
       "      <td>1</td>\n",
       "      <td>0</td>\n",
       "      <td>0</td>\n",
       "      <td>2</td>\n",
       "    </tr>\n",
       "    <tr>\n",
       "      <th>3146</th>\n",
       "      <td>3147</td>\n",
       "      <td>Oday Aboushi</td>\n",
       "      <td>2014</td>\n",
       "      <td>23</td>\n",
       "      <td>5-141</td>\n",
       "      <td>NYJ</td>\n",
       "      <td>NFL</td>\n",
       "      <td>6-5</td>\n",
       "      <td>308</td>\n",
       "      <td>36.5</td>\n",
       "      <td>15</td>\n",
       "      <td>10</td>\n",
       "      <td>1</td>\n",
       "      <td>0</td>\n",
       "      <td>0</td>\n",
       "      <td>4</td>\n",
       "    </tr>\n",
       "  </tbody>\n",
       "</table>\n",
       "</div>"
      ],
      "text/plain": [
       "        rk          name  year age drafted team league height weight   bmi  \\\n",
       "3142  3143  Tom Ackerman  2001  29   5-145  NOR    NFL    6-3    290  36.2   \n",
       "3143  3144  Tom Ackerman  2000  28   5-145  NOR    NFL    6-3    290  36.2   \n",
       "3144  3145  Tom Ackerman  2003  31   5-145  TEN    NFL    6-3    290  36.2   \n",
       "3145  3146  Oday Aboushi  2015  24   5-141  HOU    NFL    6-5    308  36.5   \n",
       "3146  3147  Oday Aboushi  2014  23   5-141  NYJ    NFL    6-5    308  36.5   \n",
       "\n",
       "     games starts yrs pro_bowl all_pro av  \n",
       "3142    16      0   1        0       0  1  \n",
       "3143    15      0   1        0       0  1  \n",
       "3144    16      0   1        0       0  2  \n",
       "3145     7      5   1        0       0  2  \n",
       "3146    15     10   1        0       0  4  "
      ]
     },
     "execution_count": 8,
     "metadata": {},
     "output_type": "execute_result"
    }
   ],
   "source": [
    "## checking the tail since we may have looped through an extra page\n",
    "df.tail()"
   ]
  },
  {
   "cell_type": "code",
   "execution_count": 9,
   "metadata": {
    "collapsed": false
   },
   "outputs": [
    {
     "data": {
      "text/plain": [
       "883"
      ]
     },
     "execution_count": 9,
     "metadata": {},
     "output_type": "execute_result"
    }
   ],
   "source": [
    "## checking to make sure we looped through all the pages by seeing \n",
    "## the number of unique names in the name column\n",
    "df.name.nunique()"
   ]
  },
  {
   "cell_type": "code",
   "execution_count": null,
   "metadata": {
    "collapsed": true
   },
   "outputs": [],
   "source": [
    "# identify the numeric columns so that they can be converted before adding to sql\n",
    "numeric_columns = ['rk', 'year', 'age', 'weight', 'bmi', 'games', 'starts',\n",
    "                   'sacks', 'tkls','ast_tkls', 'ints', 'int_return_yds',\n",
    "                   'int_return_tds', 'passes_defended', 'times_fumbled',\n",
    "                   'fumb_rec', 'yds_fumb_rec', 'td_fumb_rec', 'forced_fumbles', \n",
    "                   'yrs', 'pro_bowl', 'all_pro', 'av']\n",
    "                  \n",
    "\n",
    "# this loop will force the numeric columns to integers and floats depending on their nature\n",
    "for col in numeric_columns:\n",
    "    df[col] = df[col].convert_objects(convert_numeric=True)\n",
    "\n",
    "df.dtypes"
   ]
  }
 ],
 "metadata": {
  "kernelspec": {
   "display_name": "Python 2",
   "language": "python",
   "name": "python2"
  },
  "language_info": {
   "codemirror_mode": {
    "name": "ipython",
    "version": 2
   },
   "file_extension": ".py",
   "mimetype": "text/x-python",
   "name": "python",
   "nbconvert_exporter": "python",
   "pygments_lexer": "ipython2",
   "version": "2.7.11"
  }
 },
 "nbformat": 4,
 "nbformat_minor": 0
}
