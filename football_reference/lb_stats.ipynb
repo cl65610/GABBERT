{
 "cells": [
  {
   "cell_type": "code",
   "execution_count": 1,
   "metadata": {
    "collapsed": true
   },
   "outputs": [],
   "source": [
    "from bs4 import BeautifulSoup\n",
    "import pandas as pd\n",
    "import requests\n",
    "import numpy as np\n",
    "import urllib\n",
    "from time import sleep"
   ]
  },
  {
   "cell_type": "code",
   "execution_count": 2,
   "metadata": {
    "collapsed": true
   },
   "outputs": [],
   "source": [
    "# define a function to get the soup\n",
    "def get_soup(url):\n",
    "    r = requests.get(url)\n",
    "    soup = BeautifulSoup(r.text, 'html.parser')\n",
    "    return soup\n",
    "\n",
    "# define a function to increment the url to the next page\n",
    "\n",
    "def next_page(base, player_count):\n",
    "    url = base+str(player_count)\n",
    "    return url\n",
    "\n",
    "# define a function that will return a list of the rows of player stats on a page\n",
    "def get_rows(soup):\n",
    "    body = soup.findAll('tbody')\n",
    "    rows = body[0].findAll('tr')\n",
    "    stat_rows = [x for x in rows if x['class']==['']]\n",
    "    return stat_rows\n",
    "\n",
    "# define a function that will strip the stats out of a row of player html data\n",
    "def strip_stats(rows):\n",
    "    for x in range(0,len(rows)):\n",
    "        player_stats = rows[x].findAll('td')\n",
    "        stats.append([z.text for z in player_stats])"
   ]
  },
  {
   "cell_type": "code",
   "execution_count": 3,
   "metadata": {
    "collapsed": true
   },
   "outputs": [],
   "source": [
    "base = ('http://www.pro-football-reference.com/play-index/psl_finder.cgi?request=1&match=single&year_min=1999&year_max=2016&season_start=1&season_end=-1&age_min=0&age_max=99&league_id=NFL&team_id=&is_active=&is_hof=&pos_is_lb=Y&c1stat=sacks&c1comp=gt&c1val=&c2stat=fumbles_rec_yds&c2comp=gt&c2val=&c3stat=def_int_yds&c3comp=gt&c3val=&c4stat=seasons&c4comp=gt&c4val=&c5comp=height_in&c5gtlt=eq&c6mult=1.0&c6comp=&order_by=g&draft=0&draft_year_min=1936&draft_year_max=2016&type=&draft_round_min=0&draft_round_max=99&draft_slot_min=1&draft_slot_max=500&draft_pick_in_round=0&draft_league_id=&draft_team_id=&college_id=all&conference=any&draft_pos_is_qb=Y&draft_pos_is_rb=Y&draft_pos_is_wr=Y&draft_pos_is_te=Y&draft_pos_is_e=Y&draft_pos_is_t=Y&draft_pos_is_g=Y&draft_pos_is_c=Y&draft_pos_is_ol=Y&draft_pos_is_dt=Y&draft_pos_is_de=Y&draft_pos_is_dl=Y&draft_pos_is_ilb=Y&draft_pos_is_olb=Y&draft_pos_is_lb=Y&draft_pos_is_cb=Y&draft_pos_is_s=Y&draft_pos_is_db=Y&draft_pos_is_k=Y&draft_pos_is_p=Y&offset=')\n",
    "\n",
    "# The master function will need to have a stats and counter that increments by 100\n",
    "# and prints out how many players it has processed per loop\n",
    "def get_lb_stats(base_url, limit):\n",
    "    player_count = 0\n",
    "    while player_count <= limit:\n",
    "        url = next_page(base, player_count)\n",
    "        soup = get_soup(url)\n",
    "        rows = get_rows(soup)\n",
    "        strip_stats(rows)\n",
    "        player_count +=100\n",
    "        print '%d players processed' % player_count\n",
    "        sleep(.5)"
   ]
  },
  {
   "cell_type": "code",
   "execution_count": 4,
   "metadata": {
    "collapsed": true
   },
   "outputs": [],
   "source": [
    "# instantiate the list that the player stats will be added to. I've yet to figure\n",
    "# out how to have this list exist inside the function and be returned by it.\n",
    "stats = []"
   ]
  },
  {
   "cell_type": "code",
   "execution_count": 6,
   "metadata": {
    "collapsed": false,
    "scrolled": true
   },
   "outputs": [
    {
     "name": "stdout",
     "output_type": "stream",
     "text": [
      "100 players processed\n",
      "200 players processed\n",
      "300 players processed\n",
      "400 players processed\n",
      "500 players processed\n",
      "600 players processed\n",
      "700 players processed\n",
      "800 players processed\n",
      "900 players processed\n",
      "1000 players processed\n",
      "1100 players processed\n",
      "1200 players processed\n",
      "1300 players processed\n",
      "1400 players processed\n",
      "1500 players processed\n",
      "1600 players processed\n",
      "1700 players processed\n",
      "1800 players processed\n",
      "1900 players processed\n",
      "2000 players processed\n",
      "2100 players processed\n",
      "2200 players processed\n",
      "2300 players processed\n",
      "2400 players processed\n",
      "2500 players processed\n",
      "2600 players processed\n",
      "2700 players processed\n",
      "2800 players processed\n",
      "2900 players processed\n",
      "3000 players processed\n",
      "3100 players processed\n",
      "3200 players processed\n",
      "3300 players processed\n",
      "3400 players processed\n",
      "3500 players processed\n",
      "3600 players processed\n",
      "3700 players processed\n",
      "3800 players processed\n",
      "3900 players processed\n",
      "4000 players processed\n",
      "4100 players processed\n",
      "4200 players processed\n",
      "4300 players processed\n",
      "4400 players processed\n",
      "4500 players processed\n",
      "4600 players processed\n",
      "4700 players processed\n"
     ]
    }
   ],
   "source": [
    "# after looking through the results of the search on pro-football-reference, this\n",
    "# upper limit will capture all of the players in the search results.\n",
    "get_lb_stats(base, 4600)"
   ]
  },
  {
   "cell_type": "code",
   "execution_count": 7,
   "metadata": {
    "collapsed": false
   },
   "outputs": [
    {
     "name": "stdout",
     "output_type": "stream",
     "text": [
      "4634\n"
     ]
    }
   ],
   "source": [
    "# running a len on the stats column shows that we got all of the players we wanted\n",
    "print len(stats)\n",
    "# manually create the column names that we'll need for this dataframe\n",
    "lb_cols = ['rk', 'name', 'year', 'age', 'drafted', 'team', 'league',\n",
    "            'height', 'weight', 'bmi', 'games', 'starts', 'sacks', 'tkls',\n",
    "           'ast_tkls', 'ints', 'int_return_yds', 'int_return_tds',\n",
    "           'passes_defended', 'times_fumbled', 'fumb_rec', 'yds_fumb_rec',\n",
    "           'td_fumb_rec', 'forced_fumbles', 'yrs', 'pro_bowl', 'all_pro', 'av']\n",
    "df = pd.DataFrame(stats, columns = lb_cols)"
   ]
  },
  {
   "cell_type": "code",
   "execution_count": 8,
   "metadata": {
    "collapsed": false
   },
   "outputs": [
    {
     "data": {
      "text/html": [
       "<div>\n",
       "<table border=\"1\" class=\"dataframe\">\n",
       "  <thead>\n",
       "    <tr style=\"text-align: right;\">\n",
       "      <th></th>\n",
       "      <th>rk</th>\n",
       "      <th>name</th>\n",
       "      <th>year</th>\n",
       "      <th>age</th>\n",
       "      <th>drafted</th>\n",
       "      <th>team</th>\n",
       "      <th>league</th>\n",
       "      <th>height</th>\n",
       "      <th>weight</th>\n",
       "      <th>bmi</th>\n",
       "      <th>...</th>\n",
       "      <th>passes_defended</th>\n",
       "      <th>times_fumbled</th>\n",
       "      <th>fumb_rec</th>\n",
       "      <th>yds_fumb_rec</th>\n",
       "      <th>td_fumb_rec</th>\n",
       "      <th>forced_fumbles</th>\n",
       "      <th>yrs</th>\n",
       "      <th>pro_bowl</th>\n",
       "      <th>all_pro</th>\n",
       "      <th>av</th>\n",
       "    </tr>\n",
       "  </thead>\n",
       "  <tbody>\n",
       "    <tr>\n",
       "      <th>4629</th>\n",
       "      <td>4630</td>\n",
       "      <td>J.K. Schaffer</td>\n",
       "      <td>2012</td>\n",
       "      <td>22</td>\n",
       "      <td></td>\n",
       "      <td>CIN</td>\n",
       "      <td>NFL</td>\n",
       "      <td>6-0</td>\n",
       "      <td>232</td>\n",
       "      <td>31.5</td>\n",
       "      <td>...</td>\n",
       "      <td>0</td>\n",
       "      <td>0</td>\n",
       "      <td>0</td>\n",
       "      <td>0</td>\n",
       "      <td>0</td>\n",
       "      <td>0</td>\n",
       "      <td>1</td>\n",
       "      <td>0</td>\n",
       "      <td>0</td>\n",
       "      <td>0</td>\n",
       "    </tr>\n",
       "    <tr>\n",
       "      <th>4630</th>\n",
       "      <td>4631</td>\n",
       "      <td>Pat Schiller</td>\n",
       "      <td>2012</td>\n",
       "      <td>24</td>\n",
       "      <td></td>\n",
       "      <td>ATL</td>\n",
       "      <td>NFL</td>\n",
       "      <td>6-2</td>\n",
       "      <td>235</td>\n",
       "      <td>30.2</td>\n",
       "      <td>...</td>\n",
       "      <td>0</td>\n",
       "      <td>0</td>\n",
       "      <td>0</td>\n",
       "      <td>0</td>\n",
       "      <td>0</td>\n",
       "      <td>0</td>\n",
       "      <td>1</td>\n",
       "      <td>0</td>\n",
       "      <td>0</td>\n",
       "      <td>0</td>\n",
       "    </tr>\n",
       "    <tr>\n",
       "      <th>4631</th>\n",
       "      <td>4632</td>\n",
       "      <td>Brian Smith</td>\n",
       "      <td>2012</td>\n",
       "      <td>23</td>\n",
       "      <td></td>\n",
       "      <td>BUF</td>\n",
       "      <td>NFL</td>\n",
       "      <td>6-3</td>\n",
       "      <td>240</td>\n",
       "      <td>30.0</td>\n",
       "      <td>...</td>\n",
       "      <td>0</td>\n",
       "      <td>0</td>\n",
       "      <td>0</td>\n",
       "      <td>0</td>\n",
       "      <td>0</td>\n",
       "      <td>0</td>\n",
       "      <td>1</td>\n",
       "      <td>0</td>\n",
       "      <td>0</td>\n",
       "      <td>0</td>\n",
       "    </tr>\n",
       "    <tr>\n",
       "      <th>4632</th>\n",
       "      <td>4633</td>\n",
       "      <td>Sean Spence</td>\n",
       "      <td>2012</td>\n",
       "      <td>23</td>\n",
       "      <td>3-86</td>\n",
       "      <td>PIT</td>\n",
       "      <td>NFL</td>\n",
       "      <td>5-11</td>\n",
       "      <td>231</td>\n",
       "      <td>32.2</td>\n",
       "      <td>...</td>\n",
       "      <td>0</td>\n",
       "      <td>0</td>\n",
       "      <td>0</td>\n",
       "      <td>0</td>\n",
       "      <td>0</td>\n",
       "      <td>0</td>\n",
       "      <td>1</td>\n",
       "      <td>0</td>\n",
       "      <td>0</td>\n",
       "      <td>0</td>\n",
       "    </tr>\n",
       "    <tr>\n",
       "      <th>4633</th>\n",
       "      <td>4634</td>\n",
       "      <td>Jabara Williams</td>\n",
       "      <td>2012</td>\n",
       "      <td>23</td>\n",
       "      <td>7-228</td>\n",
       "      <td>STL</td>\n",
       "      <td>NFL</td>\n",
       "      <td>6-2</td>\n",
       "      <td>220</td>\n",
       "      <td>28.2</td>\n",
       "      <td>...</td>\n",
       "      <td>0</td>\n",
       "      <td>0</td>\n",
       "      <td>0</td>\n",
       "      <td>0</td>\n",
       "      <td>0</td>\n",
       "      <td>0</td>\n",
       "      <td>1</td>\n",
       "      <td>0</td>\n",
       "      <td>0</td>\n",
       "      <td>0</td>\n",
       "    </tr>\n",
       "  </tbody>\n",
       "</table>\n",
       "<p>5 rows × 28 columns</p>\n",
       "</div>"
      ],
      "text/plain": [
       "        rk             name  year age drafted team league height weight   bmi  \\\n",
       "4629  4630    J.K. Schaffer  2012  22          CIN    NFL    6-0    232  31.5   \n",
       "4630  4631     Pat Schiller  2012  24          ATL    NFL    6-2    235  30.2   \n",
       "4631  4632      Brian Smith  2012  23          BUF    NFL    6-3    240  30.0   \n",
       "4632  4633      Sean Spence  2012  23    3-86  PIT    NFL   5-11    231  32.2   \n",
       "4633  4634  Jabara Williams  2012  23   7-228  STL    NFL    6-2    220  28.2   \n",
       "\n",
       "     ... passes_defended times_fumbled fumb_rec yds_fumb_rec td_fumb_rec  \\\n",
       "4629 ...               0             0        0            0           0   \n",
       "4630 ...               0             0        0            0           0   \n",
       "4631 ...               0             0        0            0           0   \n",
       "4632 ...               0             0        0            0           0   \n",
       "4633 ...               0             0        0            0           0   \n",
       "\n",
       "     forced_fumbles yrs pro_bowl all_pro av  \n",
       "4629              0   1        0       0  0  \n",
       "4630              0   1        0       0  0  \n",
       "4631              0   1        0       0  0  \n",
       "4632              0   1        0       0  0  \n",
       "4633              0   1        0       0  0  \n",
       "\n",
       "[5 rows x 28 columns]"
      ]
     },
     "execution_count": 8,
     "metadata": {},
     "output_type": "execute_result"
    }
   ],
   "source": [
    "## checking the tail since we may have looped through an extra page\n",
    "df.tail()"
   ]
  },
  {
   "cell_type": "code",
   "execution_count": 9,
   "metadata": {
    "collapsed": false
   },
   "outputs": [
    {
     "data": {
      "text/plain": [
       "1341"
      ]
     },
     "execution_count": 9,
     "metadata": {},
     "output_type": "execute_result"
    }
   ],
   "source": [
    "## checking to make sure we looped through all the pages by seeing \n",
    "## the number of unique names in the name column\n",
    "df.name.nunique()"
   ]
  },
  {
   "cell_type": "code",
   "execution_count": 10,
   "metadata": {
    "collapsed": false
   },
   "outputs": [
    {
     "name": "stderr",
     "output_type": "stream",
     "text": [
      "/Users/TerryONeill/anaconda/lib/python2.7/site-packages/ipykernel/__main__.py:11: FutureWarning: convert_objects is deprecated.  Use the data-type specific converters pd.to_datetime, pd.to_timedelta and pd.to_numeric.\n"
     ]
    },
    {
     "data": {
      "text/plain": [
       "rk                   int64\n",
       "name                object\n",
       "year                 int64\n",
       "age                float64\n",
       "drafted             object\n",
       "team                object\n",
       "league              object\n",
       "height              object\n",
       "weight             float64\n",
       "bmi                float64\n",
       "games              float64\n",
       "starts             float64\n",
       "sacks              float64\n",
       "tkls                 int64\n",
       "ast_tkls             int64\n",
       "ints                 int64\n",
       "int_return_yds       int64\n",
       "int_return_tds       int64\n",
       "passes_defended      int64\n",
       "times_fumbled        int64\n",
       "fumb_rec             int64\n",
       "yds_fumb_rec         int64\n",
       "td_fumb_rec          int64\n",
       "forced_fumbles       int64\n",
       "yrs                  int64\n",
       "pro_bowl             int64\n",
       "all_pro              int64\n",
       "av                   int64\n",
       "dtype: object"
      ]
     },
     "execution_count": 10,
     "metadata": {},
     "output_type": "execute_result"
    }
   ],
   "source": [
    "# identify the numeric columns so that they can be converted before adding to sql\n",
    "numeric_columns = ['rk', 'year', 'age', 'weight', 'bmi', 'games', 'starts',\n",
    "                   'sacks', 'tkls','ast_tkls', 'ints', 'int_return_yds',\n",
    "                   'int_return_tds', 'passes_defended', 'times_fumbled',\n",
    "                   'fumb_rec', 'yds_fumb_rec', 'td_fumb_rec', 'forced_fumbles', \n",
    "                   'yrs', 'pro_bowl', 'all_pro', 'av']\n",
    "                  \n",
    "\n",
    "# this loop will force the numeric columns to integers and floats depending on their nature\n",
    "for col in numeric_columns:\n",
    "    df[col] = df[col].convert_objects(convert_numeric=True)\n",
    "\n",
    "df.dtypes"
   ]
  },
  {
   "cell_type": "code",
   "execution_count": 11,
   "metadata": {
    "collapsed": true
   },
   "outputs": [],
   "source": [
    "## Creating a csv of the newly formed qb database\n",
    "\n",
    "df.to_csv('lb_stats', encoding = 'utf-8')"
   ]
  },
  {
   "cell_type": "code",
   "execution_count": 12,
   "metadata": {
    "collapsed": true
   },
   "outputs": [],
   "source": [
    "## I will now be creating a database in postgres in order to add\n",
    "## this dataframe as a table to perform queries on outside of python\n",
    "\n",
    "from sqlalchemy import create_engine\n",
    "import psycopg2\n",
    "\n",
    "engine = create_engine('postgresql://TerryONeill@localhost:5432/nfl_capstone')"
   ]
  },
  {
   "cell_type": "code",
   "execution_count": 13,
   "metadata": {
    "collapsed": true
   },
   "outputs": [],
   "source": [
    "## this is adding the dataframe to my newly created database in psql as\n",
    "## a table named 'running_back_stats'\n",
    "df.to_sql('lb_stats', engine)"
   ]
  },
  {
   "cell_type": "code",
   "execution_count": null,
   "metadata": {
    "collapsed": true
   },
   "outputs": [],
   "source": []
  },
  {
   "cell_type": "code",
   "execution_count": null,
   "metadata": {
    "collapsed": true
   },
   "outputs": [],
   "source": []
  },
  {
   "cell_type": "code",
   "execution_count": null,
   "metadata": {
    "collapsed": true
   },
   "outputs": [],
   "source": []
  },
  {
   "cell_type": "code",
   "execution_count": null,
   "metadata": {
    "collapsed": true
   },
   "outputs": [],
   "source": []
  },
  {
   "cell_type": "code",
   "execution_count": null,
   "metadata": {
    "collapsed": true
   },
   "outputs": [],
   "source": []
  },
  {
   "cell_type": "code",
   "execution_count": null,
   "metadata": {
    "collapsed": true
   },
   "outputs": [],
   "source": []
  },
  {
   "cell_type": "code",
   "execution_count": null,
   "metadata": {
    "collapsed": true
   },
   "outputs": [],
   "source": []
  },
  {
   "cell_type": "code",
   "execution_count": null,
   "metadata": {
    "collapsed": true
   },
   "outputs": [],
   "source": []
  },
  {
   "cell_type": "code",
   "execution_count": null,
   "metadata": {
    "collapsed": true
   },
   "outputs": [],
   "source": []
  },
  {
   "cell_type": "code",
   "execution_count": null,
   "metadata": {
    "collapsed": true
   },
   "outputs": [],
   "source": []
  },
  {
   "cell_type": "code",
   "execution_count": null,
   "metadata": {
    "collapsed": true
   },
   "outputs": [],
   "source": []
  },
  {
   "cell_type": "code",
   "execution_count": null,
   "metadata": {
    "collapsed": true
   },
   "outputs": [],
   "source": []
  }
 ],
 "metadata": {
  "kernelspec": {
   "display_name": "Python 2",
   "language": "python",
   "name": "python2"
  },
  "language_info": {
   "codemirror_mode": {
    "name": "ipython",
    "version": 2
   },
   "file_extension": ".py",
   "mimetype": "text/x-python",
   "name": "python",
   "nbconvert_exporter": "python",
   "pygments_lexer": "ipython2",
   "version": "2.7.11"
  }
 },
 "nbformat": 4,
 "nbformat_minor": 0
}
